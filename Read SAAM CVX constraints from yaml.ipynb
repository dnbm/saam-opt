{
 "cells": [
  {
   "cell_type": "code",
   "execution_count": null,
   "metadata": {},
   "outputs": [],
   "source": [
    "import yaml\n",
    "import numpy as np\n",
    "import pandas as pd\n",
    "import math"
   ]
  },
  {
   "cell_type": "code",
   "execution_count": 2,
   "metadata": {},
   "outputs": [],
   "source": [
    "filepaths_HOME = {'constraints': '/Users/jacobejsing/saam_opt/cvx_constraints.yaml', \\\n",
    "                 'names': '/Users/jacobejsing/saam_opt/strat_names.yaml', \\\n",
    "                 'scenarios': '/Users/jacobejsing/saam_opt/scenarios.csv'}\n",
    "\n",
    "filepaths_WORK = {'constraints': 'C:/Users/jwe/saam/cvx_constraints.yaml', \\\n",
    "                 'names': 'C:/Users/jwe/saam/strat_names.yaml', \\\n",
    "                 'scenarios': 'C:/Users/jwe/saam/SAAM_data/scenarios.csv'}\n",
    "\n",
    "filepaths = filepaths_HOME"
   ]
  },
  {
   "cell_type": "markdown",
   "metadata": {},
   "source": [
    "### Read SAAM optimisation constraints from yaml"
   ]
  },
  {
   "cell_type": "code",
   "execution_count": 3,
   "metadata": {},
   "outputs": [],
   "source": [
    "with open(filepaths['constraints'], 'r') as f:\n",
    "    d = yaml.safe_load(f)\n",
    "\n",
    "arrays = {}\n",
    "for key in d:\n",
    "    arrays[key] = np.array(d[key])"
   ]
  },
  {
   "cell_type": "code",
   "execution_count": 4,
   "metadata": {},
   "outputs": [],
   "source": [
    "# Replace inf for UB\n",
    "arrays['UB'][arrays['UB'] == np.inf] = 1e9"
   ]
  },
  {
   "cell_type": "code",
   "execution_count": 5,
   "metadata": {},
   "outputs": [],
   "source": [
    "# Move FX reserve size to equality constraints\n",
    "\n",
    "arrays['A_eq'] = np.concatenate([arrays['A_ineq'][0:1,:], arrays['A_eq']])\n",
    "arrays['b_eq'] = np.concatenate([arrays['b_ineq'][0:1,:], arrays['b_eq']])\n",
    "\n",
    "arrays['A_ineq'] = arrays['A_ineq'][1:, :]\n",
    "arrays['b_ineq'] = arrays['b_ineq'][1:, :]"
   ]
  },
  {
   "cell_type": "code",
   "execution_count": 6,
   "metadata": {},
   "outputs": [
    {
     "data": {
      "text/plain": [
       "(10, 85)"
      ]
     },
     "metadata": {},
     "output_type": "display_data"
    },
    {
     "data": {
      "text/plain": [
       "(8, 85)"
      ]
     },
     "metadata": {},
     "output_type": "display_data"
    }
   ],
   "source": [
    "display(arrays['A_eq'].shape)\n",
    "display(arrays['A_ineq'].shape)"
   ]
  },
  {
   "cell_type": "markdown",
   "metadata": {},
   "source": [
    "### Read strategy names from yaml"
   ]
  },
  {
   "cell_type": "code",
   "execution_count": 7,
   "metadata": {},
   "outputs": [],
   "source": [
    "with open(filepaths['names'], 'r') as f:\n",
    "    L = yaml.safe_load(f)\n",
    "\n",
    "names = [elem[0] for elem in L]"
   ]
  },
  {
   "cell_type": "markdown",
   "metadata": {},
   "source": [
    "### Read SAAM scenarios from csv"
   ]
  },
  {
   "cell_type": "code",
   "execution_count": 8,
   "metadata": {},
   "outputs": [],
   "source": [
    "df = pd.read_csv(filepaths['scenarios'], header=None)\n",
    "df.columns = names\n",
    "scenarios = df.values[:10000, :]\n",
    "del df"
   ]
  },
  {
   "cell_type": "markdown",
   "metadata": {},
   "source": [
    "### Run SAAM optimisation with CVX"
   ]
  },
  {
   "cell_type": "code",
   "execution_count": 9,
   "metadata": {},
   "outputs": [],
   "source": [
    "from cvxopt import matrix, solvers"
   ]
  },
  {
   "cell_type": "code",
   "execution_count": 10,
   "metadata": {},
   "outputs": [
    {
     "name": "stdout",
     "output_type": "stream",
     "text": [
      "     pcost       dcost       gap    pres   dres\n",
      " 0:  1.8889e+00  7.7778e-01  1e+00  3e-16  2e+00\n",
      " 1:  1.8769e+00  1.8320e+00  4e-02  2e-16  6e-02\n",
      " 2:  1.8750e+00  1.8739e+00  1e-03  2e-16  5e-04\n",
      " 3:  1.8750e+00  1.8750e+00  1e-05  6e-17  5e-06\n",
      " 4:  1.8750e+00  1.8750e+00  1e-07  2e-16  5e-08\n",
      "Optimal solution found.\n",
      "[ 2.50e-01]\n",
      "[ 7.50e-01]\n",
      "\n"
     ]
    }
   ],
   "source": [
    "P = 2 * matrix([ [2, .5], [.5, 1] ])\n",
    "q = matrix([1.0, 1.0])\n",
    "G = matrix([[-1.0,0.0],[0.0,-1.0]])\n",
    "h = matrix([0.0,0.0])\n",
    "A = matrix([1.0, 1.0], (1,2))\n",
    "b = matrix(1.0)\n",
    "sol = solvers.qp(P, q, G, h, A, b)\n",
    "print(sol['x'])"
   ]
  },
  {
   "cell_type": "markdown",
   "metadata": {},
   "source": [
    "### Inspect individual constraints"
   ]
  },
  {
   "cell_type": "code",
   "execution_count": 11,
   "metadata": {},
   "outputs": [
    {
     "data": {
      "text/plain": [
       "array([442544.22022029])"
      ]
     },
     "metadata": {},
     "output_type": "display_data"
    }
   ],
   "source": [
    "j = 0\n",
    "\n",
    "selection = []\n",
    "for ix, name in enumerate(names):\n",
    "    if arrays['A_eq'][j, ix]:\n",
    "        #print(name)\n",
    "        selection.append(name)\n",
    "        \n",
    "#display(arrays['A_eq'][j,])\n",
    "display(arrays['b_eq'][j,])"
   ]
  },
  {
   "cell_type": "code",
   "execution_count": 12,
   "metadata": {},
   "outputs": [
    {
     "data": {
      "text/html": [
       "<div>\n",
       "<style scoped>\n",
       "    .dataframe tbody tr th:only-of-type {\n",
       "        vertical-align: middle;\n",
       "    }\n",
       "\n",
       "    .dataframe tbody tr th {\n",
       "        vertical-align: top;\n",
       "    }\n",
       "\n",
       "    .dataframe thead th {\n",
       "        text-align: right;\n",
       "    }\n",
       "</style>\n",
       "<table border=\"1\" class=\"dataframe\">\n",
       "  <thead>\n",
       "    <tr style=\"text-align: right;\">\n",
       "      <th></th>\n",
       "      <th>coef</th>\n",
       "    </tr>\n",
       "  </thead>\n",
       "  <tbody>\n",
       "    <tr>\n",
       "      <th>EURDKK</th>\n",
       "      <td>0.0</td>\n",
       "    </tr>\n",
       "    <tr>\n",
       "      <th>INDSKUD</th>\n",
       "      <td>0.0</td>\n",
       "    </tr>\n",
       "    <tr>\n",
       "      <th>FOLIO</th>\n",
       "      <td>0.0</td>\n",
       "    </tr>\n",
       "    <tr>\n",
       "      <th>SPX_FUT</th>\n",
       "      <td>0.0</td>\n",
       "    </tr>\n",
       "    <tr>\n",
       "      <th>EQUITY_FUT</th>\n",
       "      <td>0.0</td>\n",
       "    </tr>\n",
       "    <tr>\n",
       "      <th>DKKSWPY5</th>\n",
       "      <td>0.0</td>\n",
       "    </tr>\n",
       "    <tr>\n",
       "      <th>CARRY_USDEURM3</th>\n",
       "      <td>0.0</td>\n",
       "    </tr>\n",
       "    <tr>\n",
       "      <th>DKKSWPW1</th>\n",
       "      <td>0.0</td>\n",
       "    </tr>\n",
       "    <tr>\n",
       "      <th>DKKSWPY2</th>\n",
       "      <td>0.0</td>\n",
       "    </tr>\n",
       "    <tr>\n",
       "      <th>DKKSWPY10</th>\n",
       "      <td>0.0</td>\n",
       "    </tr>\n",
       "  </tbody>\n",
       "</table>\n",
       "</div>"
      ],
      "text/plain": [
       "                coef\n",
       "EURDKK           0.0\n",
       "INDSKUD          0.0\n",
       "FOLIO            0.0\n",
       "SPX_FUT          0.0\n",
       "EQUITY_FUT       0.0\n",
       "DKKSWPY5         0.0\n",
       "CARRY_USDEURM3   0.0\n",
       "DKKSWPW1         0.0\n",
       "DKKSWPY2         0.0\n",
       "DKKSWPY10        0.0"
      ]
     },
     "execution_count": 12,
     "metadata": {},
     "output_type": "execute_result"
    }
   ],
   "source": [
    "info = pd.DataFrame(arrays['A_eq'][j,], index = names, columns=['coef'])\n",
    "info.sort_values('coef').head(10)"
   ]
  },
  {
   "cell_type": "code",
   "execution_count": 13,
   "metadata": {},
   "outputs": [
    {
     "data": {
      "text/plain": [
       "numpy.ndarray"
      ]
     },
     "execution_count": 13,
     "metadata": {},
     "output_type": "execute_result"
    }
   ],
   "source": [
    "type(scenarios)"
   ]
  },
  {
   "cell_type": "code",
   "execution_count": 14,
   "metadata": {},
   "outputs": [
    {
     "name": "stdout",
     "output_type": "stream",
     "text": [
      "     pcost       dcost       gap    pres   dres\n",
      " 0:  1.3723e+16 -6.8084e+18  6e+19  9e-01  6e+09\n",
      " 1:  7.6170e+14 -1.2581e+18  1e+19  1e-01  1e+09\n",
      " 2:  2.9251e+11 -3.1845e+16  2e+17  3e-03  2e+07\n",
      " 3:  3.1542e+08 -1.0756e+15  6e+15  8e-05  6e+05\n",
      " 4:  4.1446e+07 -2.6569e+14  5e+14  3e-06  2e+04\n",
      " 5:  4.4500e+07 -3.0959e+13  5e+13  3e-07  2e+03\n",
      " 6:  4.2201e+07 -1.5914e+13  3e+13  2e-07  1e+03\n",
      " 7:  1.5986e+07 -1.2456e+13  2e+13  1e-07  8e+02\n",
      " 8:  1.2225e+07 -1.9845e+12  3e+12  5e-09  4e+01\n",
      " 9:  1.2027e+07 -2.3515e+10  3e+10  5e-11  4e-01\n",
      "10:  1.2020e+07 -2.6799e+08  3e+08  7e-13  5e-03\n",
      "11:  1.1669e+07 -2.4364e+07  4e+07  8e-14  6e-04\n",
      "12:  1.0206e+07  2.9109e+06  9e+06  1e-14  1e-04\n",
      "13:  8.5862e+06  7.3272e+06  1e+06  1e-15  1e-05\n",
      "14:  8.1394e+06  7.9243e+06  2e+05  2e-16  8e-06\n",
      "15:  8.0359e+06  8.0132e+06  3e+04  2e-16  1e-05\n",
      "16:  8.0245e+06  8.0238e+06  7e+02  2e-16  1e-05\n",
      "17:  8.0242e+06  8.0242e+06  7e+01  2e-16  9e-06\n",
      "18:  8.0242e+06  8.0242e+06  4e+01  2e-16  1e-05\n",
      "19:  8.0242e+06  8.0242e+06  1e+01  2e-16  2e-05\n",
      "20:  8.0242e+06  8.0242e+06  6e+00  2e-16  2e-05\n",
      "21:  8.0242e+06  8.0242e+06  2e+00  3e-16  2e-05\n",
      "22:  8.0242e+06  8.0242e+06  1e+00  2e-16  4e-05\n",
      "23:  8.0242e+06  8.0242e+06  4e-01  2e-16  7e-05\n",
      "24:  8.0242e+06  8.0242e+06  2e-01  1e-16  9e-05\n",
      "25:  8.0242e+06  8.0242e+06  7e-02  1e-16  5e-05\n",
      "26:  8.0242e+06  8.0242e+06  2e-02  2e-16  3e-05\n",
      "27:  8.0242e+06  8.0242e+06  1e-02  2e-16  4e-05\n",
      "28:  8.0242e+06  8.0242e+06  1e-04  2e-16  3e-05\n",
      "29:  8.0242e+06  8.0242e+06  1e-06  2e-16  2e-05\n",
      "30:  8.0242e+06  8.0242e+06  1e-08  2e-16  2e-05\n",
      "31:  8.0242e+06  8.0242e+06  5e-10  1e-16  3e-05\n",
      "Terminated (singular KKT matrix).\n"
     ]
    },
    {
     "data": {
      "text/plain": [
       "'unknown'"
      ]
     },
     "execution_count": 14,
     "metadata": {},
     "output_type": "execute_result"
    }
   ],
   "source": [
    "N = scenarios.shape[1]\n",
    "\n",
    "P = matrix(2 * np.cov(scenarios.T))\n",
    "q = matrix(np.zeros((N, 1)))\n",
    "\n",
    "#G = matrix(arrays['A_ineq'])\n",
    "#h = matrix(arrays['b_ineq'])\n",
    "\n",
    "# Including upper and lower bounds in inequality constraints\n",
    "#G = matrix(np.zeros((1, 85)))\n",
    "#h = matrix(0.0)\n",
    "\n",
    "#G = matrix(arrays['A_ineq'][1:,])\n",
    "#h = matrix(arrays['b_ineq'][1:,])\n",
    "\n",
    "r_hat = np.mean(scenarios, axis=0);\n",
    "min_return = -1200.0 * np.ones((1,1));\n",
    "\n",
    "G = matrix(np.concatenate([arrays['A_ineq'], np.identity(N), -np.identity(N), -r_hat.reshape(1, N)]))\n",
    "h = matrix(np.concatenate([arrays['b_ineq'], arrays['UB'], -arrays['LB'], -min_return]))\n",
    "\n",
    "A = matrix(arrays['A_eq'][1:,:])\n",
    "b = matrix(arrays['b_eq'][1:,:])\n",
    "\n",
    "solvers.options['show_progress'] = True\n",
    "sol = solvers.qp(P, q, G, h, A, b)\n",
    "sol['status']"
   ]
  },
  {
   "cell_type": "code",
   "execution_count": 15,
   "metadata": {},
   "outputs": [
    {
     "name": "stdout",
     "output_type": "stream",
     "text": [
      "12.3 ms ± 20.3 µs per loop (mean ± std. dev. of 7 runs, 100 loops each)\n"
     ]
    }
   ],
   "source": [
    "%%timeit\n",
    "solvers.options['show_progress'] = False\n",
    "sol = solvers.qp(P, q, G, h, A, b)"
   ]
  },
  {
   "cell_type": "code",
   "execution_count": 16,
   "metadata": {},
   "outputs": [
    {
     "data": {
      "text/plain": [
       "'Pnl -1200.0000000000005, Stdev 2832.701550342746'"
      ]
     },
     "execution_count": 16,
     "metadata": {},
     "output_type": "execute_result"
    }
   ],
   "source": [
    "stdev = math.sqrt(sol['primal objective'])\n",
    "pnl = np.dot(r_hat, sol['x'])\n",
    "f\"Pnl {pnl[0]}, Stdev {stdev}\""
   ]
  },
  {
   "cell_type": "markdown",
   "metadata": {},
   "source": [
    "### Functions"
   ]
  },
  {
   "cell_type": "code",
   "execution_count": 23,
   "metadata": {},
   "outputs": [],
   "source": [
    "def minimize_risk(r_hat, min_return):\n",
    "    \n",
    "    min_return = min_return * np.ones((1,1))\n",
    "    \n",
    "    G = matrix(np.concatenate([arrays['A_ineq'], np.identity(N), -np.identity(N), -r_hat.reshape(1, N)]))\n",
    "    h = matrix(np.concatenate([arrays['b_ineq'], arrays['UB'], -arrays['LB'], -min_return]))\n",
    "    \n",
    "    A = matrix(arrays['A_eq'][1:,:])\n",
    "    b = matrix(arrays['b_eq'][1:,:])\n",
    "\n",
    "    solvers.options['show_progress'] = False\n",
    "    solution = solvers.qp(P, q, G, h, A, b)\n",
    "    return solution\n",
    "\n",
    "def extract_results(solution, r_hat):\n",
    "    results = {}\n",
    "    results['w'] = solution['x']\n",
    "    results['stdev'] = math.sqrt(solution['primal objective'])\n",
    "    results['return'] = np.dot(r_hat, results['w'])[0]\n",
    "    results['VaR'] = np.percentile(np.dot(scenarios, results['w']), 5, axis=0)[0]\n",
    "    return results"
   ]
  },
  {
   "cell_type": "code",
   "execution_count": 24,
   "metadata": {},
   "outputs": [],
   "source": [
    "r_hat = np.mean(scenarios, axis=0)\n",
    "\n",
    "frontier_data = []\n",
    "\n",
    "for min_return in list(range(-1200, -300, 10)):\n",
    "    solution = minimize_risk(r_hat, min_return)\n",
    "    results = extract_results(solution, r_hat)\n",
    "    frontier_data.append([min_return, results['return'], results['stdev'], results['VaR']])\n",
    "    #print(min_return, results['return'], results['stdev'])"
   ]
  },
  {
   "cell_type": "code",
   "execution_count": 26,
   "metadata": {},
   "outputs": [
    {
     "data": {
      "text/html": [
       "<div>\n",
       "<style scoped>\n",
       "    .dataframe tbody tr th:only-of-type {\n",
       "        vertical-align: middle;\n",
       "    }\n",
       "\n",
       "    .dataframe tbody tr th {\n",
       "        vertical-align: top;\n",
       "    }\n",
       "\n",
       "    .dataframe thead th {\n",
       "        text-align: right;\n",
       "    }\n",
       "</style>\n",
       "<table border=\"1\" class=\"dataframe\">\n",
       "  <thead>\n",
       "    <tr style=\"text-align: right;\">\n",
       "      <th></th>\n",
       "      <th>min_return</th>\n",
       "      <th>return</th>\n",
       "      <th>stdev</th>\n",
       "      <th>VaR</th>\n",
       "    </tr>\n",
       "  </thead>\n",
       "  <tbody>\n",
       "    <tr>\n",
       "      <th>0</th>\n",
       "      <td>-1200</td>\n",
       "      <td>-1200.0</td>\n",
       "      <td>2832.701550</td>\n",
       "      <td>-5378.947696</td>\n",
       "    </tr>\n",
       "    <tr>\n",
       "      <th>1</th>\n",
       "      <td>-1190</td>\n",
       "      <td>-1190.0</td>\n",
       "      <td>2833.278636</td>\n",
       "      <td>-5370.336780</td>\n",
       "    </tr>\n",
       "    <tr>\n",
       "      <th>2</th>\n",
       "      <td>-1180</td>\n",
       "      <td>-1180.0</td>\n",
       "      <td>2834.333761</td>\n",
       "      <td>-5370.597142</td>\n",
       "    </tr>\n",
       "    <tr>\n",
       "      <th>3</th>\n",
       "      <td>-1170</td>\n",
       "      <td>-1170.0</td>\n",
       "      <td>2836.123213</td>\n",
       "      <td>-5352.806440</td>\n",
       "    </tr>\n",
       "    <tr>\n",
       "      <th>4</th>\n",
       "      <td>-1160</td>\n",
       "      <td>-1160.0</td>\n",
       "      <td>2838.499173</td>\n",
       "      <td>-5352.190851</td>\n",
       "    </tr>\n",
       "  </tbody>\n",
       "</table>\n",
       "</div>"
      ],
      "text/plain": [
       "   min_return  return        stdev          VaR\n",
       "0       -1200 -1200.0  2832.701550 -5378.947696\n",
       "1       -1190 -1190.0  2833.278636 -5370.336780\n",
       "2       -1180 -1180.0  2834.333761 -5370.597142\n",
       "3       -1170 -1170.0  2836.123213 -5352.806440\n",
       "4       -1160 -1160.0  2838.499173 -5352.190851"
      ]
     },
     "execution_count": 26,
     "metadata": {},
     "output_type": "execute_result"
    }
   ],
   "source": [
    "frontier = pd.DataFrame(frontier_data, columns=['min_return', 'return', 'stdev', 'VaR'])\n",
    "frontier.head()"
   ]
  },
  {
   "cell_type": "code",
   "execution_count": 28,
   "metadata": {},
   "outputs": [
    {
     "name": "stdout",
     "output_type": "stream",
     "text": [
      "Using matplotlib backend: Qt5Agg\n",
      "Populating the interactive namespace from numpy and matplotlib\n"
     ]
    }
   ],
   "source": [
    "%pylab"
   ]
  },
  {
   "cell_type": "code",
   "execution_count": 29,
   "metadata": {},
   "outputs": [],
   "source": [
    "frontier.plot(x=\"VaR\", y=\"return\", kind=\"scatter\", grid=True);"
   ]
  },
  {
   "cell_type": "code",
   "execution_count": null,
   "metadata": {},
   "outputs": [],
   "source": []
  }
 ],
 "metadata": {
  "kernelspec": {
   "display_name": "Python 3",
   "language": "python",
   "name": "python3"
  },
  "language_info": {
   "codemirror_mode": {
    "name": "ipython",
    "version": 3
   },
   "file_extension": ".py",
   "mimetype": "text/x-python",
   "name": "python",
   "nbconvert_exporter": "python",
   "pygments_lexer": "ipython3",
   "version": "3.7.3"
  }
 },
 "nbformat": 4,
 "nbformat_minor": 2
}
