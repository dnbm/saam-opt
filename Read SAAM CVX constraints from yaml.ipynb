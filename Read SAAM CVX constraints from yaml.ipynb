{
 "cells": [
  {
   "cell_type": "code",
   "execution_count": null,
   "metadata": {},
   "outputs": [],
   "source": [
    "import yaml\n",
    "import numpy as np\n",
    "import pandas as pd\n",
    "import math"
   ]
  },
  {
   "cell_type": "code",
   "execution_count": null,
   "metadata": {},
   "outputs": [],
   "source": [
    "filepaths_ = {'constraints': 'cvx_constraints.yaml', \\\n",
    "                 'names': 'strat_names.yaml', \\\n",
    "                 'scenarios': 'scenarios.csv'}\n",
    "\n",
    "filepaths = filepaths_"
   ]
  },
  {
   "cell_type": "markdown",
   "metadata": {},
   "source": [
    "### Read SAAM optimisation constraints from yaml"
   ]
  },
  {
   "cell_type": "code",
   "execution_count": null,
   "metadata": {},
   "outputs": [],
   "source": [
    "with open(filepaths['constraints'], 'r') as f:\n",
    "    d = yaml.safe_load(f)\n",
    "\n",
    "arrays = {}\n",
    "for key in d:\n",
    "    arrays[key] = np.array(d[key])"
   ]
  },
  {
   "cell_type": "code",
   "execution_count": null,
   "metadata": {},
   "outputs": [],
   "source": [
    "# Replace inf for UB\n",
    "arrays['UB'][arrays['UB'] == np.inf] = 1e9"
   ]
  },
  {
   "cell_type": "code",
   "execution_count": null,
   "metadata": {},
   "outputs": [],
   "source": [
    "# Move FX reserve size to equality constraints\n",
    "\n",
    "arrays['A_eq'] = np.concatenate([arrays['A_ineq'][0:1,:], arrays['A_eq']])\n",
    "arrays['b_eq'] = np.concatenate([arrays['b_ineq'][0:1,:], arrays['b_eq']])\n",
    "\n",
    "arrays['A_ineq'] = arrays['A_ineq'][1:, :]\n",
    "arrays['b_ineq'] = arrays['b_ineq'][1:, :]"
   ]
  },
  {
   "cell_type": "code",
   "execution_count": null,
   "metadata": {},
   "outputs": [],
   "source": [
    "display(arrays['A_eq'].shape)\n",
    "display(arrays['A_ineq'].shape)"
   ]
  },
  {
   "cell_type": "markdown",
   "metadata": {},
   "source": [
    "### Read strategy names from yaml"
   ]
  },
  {
   "cell_type": "code",
   "execution_count": null,
   "metadata": {},
   "outputs": [],
   "source": [
    "with open(filepaths['names'], 'r') as f:\n",
    "    L = yaml.safe_load(f)\n",
    "\n",
    "names = [elem[0] for elem in L]"
   ]
  },
  {
   "cell_type": "markdown",
   "metadata": {},
   "source": [
    "### Read SAAM scenarios from csv"
   ]
  },
  {
   "cell_type": "code",
   "execution_count": null,
   "metadata": {},
   "outputs": [],
   "source": [
    "df = pd.read_csv(filepaths['scenarios'], header=None)\n",
    "df.columns = names\n",
    "scenarios = df.values[:10000, :]\n",
    "del df"
   ]
  },
  {
   "cell_type": "markdown",
   "metadata": {},
   "source": [
    "### Run SAAM optimisation with CVX"
   ]
  },
  {
   "cell_type": "code",
   "execution_count": null,
   "metadata": {},
   "outputs": [],
   "source": [
    "from cvxopt import matrix, solvers"
   ]
  },
  {
   "cell_type": "code",
   "execution_count": null,
   "metadata": {},
   "outputs": [],
   "source": [
    "P = 2 * matrix([ [2, .5], [.5, 1] ])\n",
    "q = matrix([1.0, 1.0])\n",
    "G = matrix([[-1.0,0.0],[0.0,-1.0]])\n",
    "h = matrix([0.0,0.0])\n",
    "A = matrix([1.0, 1.0], (1,2))\n",
    "b = matrix(1.0)\n",
    "sol = solvers.qp(P, q, G, h, A, b)\n",
    "print(sol['x'])"
   ]
  },
  {
   "cell_type": "markdown",
   "metadata": {},
   "source": [
    "### Inspect individual constraints"
   ]
  },
  {
   "cell_type": "code",
   "execution_count": null,
   "metadata": {},
   "outputs": [],
   "source": [
    "j = 0\n",
    "\n",
    "selection = []\n",
    "for ix, name in enumerate(names):\n",
    "    if arrays['A_eq'][j, ix]:\n",
    "        #print(name)\n",
    "        selection.append(name)\n",
    "        \n",
    "#display(arrays['A_eq'][j,])\n",
    "display(arrays['b_eq'][j,])"
   ]
  },
  {
   "cell_type": "code",
   "execution_count": null,
   "metadata": {},
   "outputs": [],
   "source": [
    "info = pd.DataFrame(arrays['A_eq'][j,], index = names, columns=['coef'])\n",
    "info.sort_values('coef').head(10)"
   ]
  },
  {
   "cell_type": "code",
   "execution_count": null,
   "metadata": {},
   "outputs": [],
   "source": [
    "type(scenarios)"
   ]
  },
  {
   "cell_type": "code",
   "execution_count": null,
   "metadata": {},
   "outputs": [],
   "source": [
    "N = scenarios.shape[1]\n",
    "\n",
    "P = matrix(2 * np.cov(scenarios.T))\n",
    "q = matrix(np.zeros((N, 1)))\n",
    "\n",
    "#G = matrix(arrays['A_ineq'])\n",
    "#h = matrix(arrays['b_ineq'])\n",
    "\n",
    "# Including upper and lower bounds in inequality constraints\n",
    "#G = matrix(np.zeros((1, 85)))\n",
    "#h = matrix(0.0)\n",
    "\n",
    "#G = matrix(arrays['A_ineq'][1:,])\n",
    "#h = matrix(arrays['b_ineq'][1:,])\n",
    "\n",
    "r_hat = np.mean(scenarios, axis=0);\n",
    "min_return = -1200.0 * np.ones((1,1));\n",
    "\n",
    "G = matrix(np.concatenate([arrays['A_ineq'], np.identity(N), -np.identity(N), -r_hat.reshape(1, N)]))\n",
    "h = matrix(np.concatenate([arrays['b_ineq'], arrays['UB'], -arrays['LB'], -min_return]))\n",
    "\n",
    "A = matrix(arrays['A_eq'][1:,:])\n",
    "b = matrix(arrays['b_eq'][1:,:])\n",
    "\n",
    "solvers.options['show_progress'] = True\n",
    "sol = solvers.qp(P, q, G, h, A, b)\n",
    "sol['status']"
   ]
  },
  {
   "cell_type": "code",
   "execution_count": null,
   "metadata": {},
   "outputs": [],
   "source": [
    "%%timeit\n",
    "solvers.options['show_progress'] = False\n",
    "sol = solvers.qp(P, q, G, h, A, b)"
   ]
  },
  {
   "cell_type": "code",
   "execution_count": null,
   "metadata": {},
   "outputs": [],
   "source": [
    "stdev = math.sqrt(sol['primal objective'])\n",
    "pnl = np.dot(r_hat, sol['x'])\n",
    "f\"Pnl {pnl[0]}, Stdev {stdev}\""
   ]
  },
  {
   "cell_type": "markdown",
   "metadata": {},
   "source": [
    "### Functions"
   ]
  },
  {
   "cell_type": "code",
   "execution_count": null,
   "metadata": {},
   "outputs": [],
   "source": [
    "def minimize_risk(r_hat, min_return):\n",
    "    \n",
    "    min_return = min_return * np.ones((1,1))\n",
    "    \n",
    "    G = matrix(np.concatenate([arrays['A_ineq'], np.identity(N), -np.identity(N), -r_hat.reshape(1, N)]))\n",
    "    h = matrix(np.concatenate([arrays['b_ineq'], arrays['UB'], -arrays['LB'], -min_return]))\n",
    "    \n",
    "    A = matrix(arrays['A_eq'][1:,:])\n",
    "    b = matrix(arrays['b_eq'][1:,:])\n",
    "\n",
    "    solvers.options['show_progress'] = False\n",
    "    solution = solvers.qp(P, q, G, h, A, b)\n",
    "    return solution\n",
    "\n",
    "def extract_results(solution, r_hat):\n",
    "    results = {}\n",
    "    results['w'] = solution['x']\n",
    "    results['stdev'] = math.sqrt(solution['primal objective'])\n",
    "    results['return'] = np.dot(r_hat, results['w'])[0]\n",
    "    results['VaR'] = np.percentile(np.dot(scenarios, results['w']), 5, axis=0)[0]\n",
    "    return results"
   ]
  },
  {
   "cell_type": "code",
   "execution_count": null,
   "metadata": {},
   "outputs": [],
   "source": [
    "r_hat = np.mean(scenarios, axis=0)\n",
    "\n",
    "frontier_data = []\n",
    "\n",
    "for min_return in list(range(-1200, -300, 10)):\n",
    "    solution = minimize_risk(r_hat, min_return)\n",
    "    results = extract_results(solution, r_hat)\n",
    "    frontier_data.append([min_return, results['return'], results['stdev'], results['VaR']])\n",
    "    #print(min_return, results['return'], results['stdev'])"
   ]
  },
  {
   "cell_type": "code",
   "execution_count": null,
   "metadata": {},
   "outputs": [],
   "source": [
    "frontier = pd.DataFrame(frontier_data, columns=['min_return', 'return', 'stdev', 'VaR'])\n",
    "frontier.head()"
   ]
  },
  {
   "cell_type": "code",
   "execution_count": null,
   "metadata": {},
   "outputs": [],
   "source": [
    "frontier.plot(x=\"VaR\", y=\"return\", kind=\"scatter\", grid=True);"
   ]
  }
 ],
 "metadata": {
  "kernelspec": {
   "display_name": "Python 3",
   "language": "python",
   "name": "python3"
  },
  "language_info": {
   "codemirror_mode": {
    "name": "ipython",
    "version": 3
   },
   "file_extension": ".py",
   "mimetype": "text/x-python",
   "name": "python",
   "nbconvert_exporter": "python",
   "pygments_lexer": "ipython3",
   "version": "3.7.0"
  }
 },
 "nbformat": 4,
 "nbformat_minor": 2
}
